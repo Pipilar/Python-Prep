{
 "cells": [
  {
   "cell_type": "code",
   "execution_count": 2,
   "metadata": {},
   "outputs": [],
   "source": [
    "#1\n",
    "def es_primo(numero):\n",
    "    primo = True\n",
    "    if numero == 1 or numero == 2 or numero == 3 or numero == 5 or numero == 7:\n",
    "        primo = True\n",
    "    elif numero % 2 == 0 or numero % 3 == 0 or numero % 5 == 0 or numero % 7 == 0:\n",
    "        primo = False\n",
    "    else:\n",
    "        primo = True\n",
    "    return primo"
   ]
  },
  {
   "cell_type": "code",
   "execution_count": 3,
   "metadata": {},
   "outputs": [
    {
     "data": {
      "text/plain": [
       "False"
      ]
     },
     "execution_count": 3,
     "metadata": {},
     "output_type": "execute_result"
    }
   ],
   "source": [
    "es_primo(225)"
   ]
  },
  {
   "cell_type": "code",
   "execution_count": 63,
   "metadata": {},
   "outputs": [],
   "source": [
    "#2\n",
    "def lista_primos(lista): #la funcion y entre parentesis lo que toma como parametro\n",
    "    #es decir lo que uno puede ingresarle a la funcion\n",
    "    listaa = [] # acá definimos lo que arroja como solucion\n",
    "    for i in lista:\n",
    "        if es_primo(i):\n",
    "            listaa.append(i)\n",
    "    return listaa\n"
   ]
  },
  {
   "cell_type": "code",
   "execution_count": 64,
   "metadata": {},
   "outputs": [
    {
     "name": "stdout",
     "output_type": "stream",
     "text": [
      "[1, 2, 3, 5, 7]\n"
     ]
    }
   ],
   "source": [
    "lista_completa = [1,2,3,4,5,6,7,8,9,10]\n",
    "lista_deprimos = lista_primos(lista_completa)\n",
    "print(lista_deprimos)"
   ]
  },
  {
   "cell_type": "code",
   "execution_count": 104,
   "metadata": {},
   "outputs": [
    {
     "data": {
      "text/plain": [
       "[1, 1, 1, 2, 2, 2, 3, 3, 4, 4, 4, 4, 5, 5, 6, 7, 8, 8, 9]"
      ]
     },
     "execution_count": 104,
     "metadata": {},
     "output_type": "execute_result"
    }
   ],
   "source": [
    "#3\n",
    "listita = [1,1,1,2,3,4,4,5,6,8,8,5,3,2,7,2,4,4,9]\n",
    "listita.sort()\n",
    "listita\n"
   ]
  },
  {
   "cell_type": "code",
   "execution_count": 106,
   "metadata": {},
   "outputs": [
    {
     "name": "stdout",
     "output_type": "stream",
     "text": [
      "1 se repite 1 veces\n",
      "2 se repite 3 veces\n",
      "3 se repite 3 veces\n",
      "4 se repite 2 veces\n",
      "5 se repite 4 veces\n",
      "6 se repite 2 veces\n",
      "7 se repite 1 veces\n",
      "8 se repite 1 veces\n",
      "9 se repite 2 veces\n"
     ]
    }
   ],
   "source": [
    "def repetidos(lista):\n",
    "    \n",
    "anterior = ''\n",
    "contador = 1\n",
    "for actual in listita:\n",
    "    if actual == anterior:\n",
    "        contador += 1\n",
    "    else:\n",
    "        print(actual, 'se repite', contador,'veces')\n",
    "        contador = 1\n",
    "    anterior = actual      \n",
    "            \n",
    "    "
   ]
  },
  {
   "cell_type": "code",
   "execution_count": 4,
   "metadata": {},
   "outputs": [],
   "source": [
    "#5\n",
    "def climix(valor,origen,destino):\n",
    "    if origen == 'Celcius':\n",
    "        if destino == 'Celcius':\n",
    "            valor_destino = valor\n",
    "        elif destino == 'Farenheit':\n",
    "            valor_destino = valor*9/5 + 32\n",
    "        elif destino == 'Kelvin':\n",
    "            valor_destino = valor + 273.15\n",
    "    elif origen == 'Farenheit':\n",
    "        if destino == 'Celcius':\n",
    "            valor_destino = (valor - 32) * 5/9\n",
    "        elif destino == 'Farenheit':\n",
    "            valor_destino=valor\n",
    "        elif destino == 'Kelvin':\n",
    "            valor_destino = (valor - 32) * 5/9 + 273.15\n",
    "    elif origen == 'Kelvin':\n",
    "        if destino == 'Celcius':\n",
    "            valor_destino = valor - 273.15\n",
    "        elif destino == 'Farenheit':\n",
    "            valor_destino = ((valor - 273.15)*9/5)+32\n",
    "        elif destino == 'Kelvin':\n",
    "            valor_destino=valor\n",
    "    return valor_destino"
   ]
  },
  {
   "cell_type": "code",
   "execution_count": 6,
   "metadata": {},
   "outputs": [
    {
     "data": {
      "text/plain": [
       "284.26111111111106"
      ]
     },
     "execution_count": 6,
     "metadata": {},
     "output_type": "execute_result"
    }
   ],
   "source": [
    "climix(52,'Farenheit','Kelvin')"
   ]
  },
  {
   "cell_type": "code",
   "execution_count": 154,
   "metadata": {},
   "outputs": [
    {
     "name": "stdout",
     "output_type": "stream",
     "text": [
      "1 unidad de Celcius a Celcius es 1\n",
      "1 unidad de Celcius a Kelvin es 274.15\n",
      "1 unidad de Celcius a Farenheit es 33.8\n",
      "1 unidad de Kelvin a Celcius es -272.15\n",
      "1 unidad de Kelvin a Kelvin es 1\n",
      "1 unidad de Kelvin a Farenheit es -457.87\n",
      "1 unidad de Farenheit a Celcius es -17.22222222222222\n",
      "1 unidad de Farenheit a Kelvin es 255.92777777777775\n",
      "1 unidad de Farenheit a Farenheit es 1\n"
     ]
    }
   ],
   "source": [
    "#6\n",
    "parametro = ['Celcius','Kelvin','Farenheit']\n",
    "for a in range (0,3):\n",
    "    for b in range(0,3):\n",
    "        print('1 unidad de', parametro[a], 'a', parametro[b], 'es', climix(1,parametro[a],parametro[b]))\n",
    "    "
   ]
  },
  {
   "cell_type": "code",
   "execution_count": 178,
   "metadata": {},
   "outputs": [],
   "source": [
    "#7\n",
    "def factorializador(nro):\n",
    "    fact = ''\n",
    "    if type(nro) != int:\n",
    "        return('ingrese un numero entero')\n",
    "    if nro > 0:\n",
    "        factorial = 1\n",
    "        for a in range(0,nro):\n",
    "            factorial = factorial * nro\n",
    "            nro -= 1\n",
    "        fact = factorial\n",
    "    if nro < 0:\n",
    "        return('ingrese un numero positivo')\n",
    "    \n",
    "    return fact\n"
   ]
  },
  {
   "cell_type": "code",
   "execution_count": 183,
   "metadata": {},
   "outputs": [
    {
     "name": "stdout",
     "output_type": "stream",
     "text": [
      "40320\n"
     ]
    }
   ],
   "source": [
    "print(factorializador(8))\n"
   ]
  }
 ],
 "metadata": {
  "interpreter": {
   "hash": "5ce8f7e1a65270a9a52111c8281a701c62f24038c5333d6712e533aaa6ddee7b"
  },
  "kernelspec": {
   "display_name": "Python 3.9.7 ('base')",
   "language": "python",
   "name": "python3"
  },
  "language_info": {
   "codemirror_mode": {
    "name": "ipython",
    "version": 3
   },
   "file_extension": ".py",
   "mimetype": "text/x-python",
   "name": "python",
   "nbconvert_exporter": "python",
   "pygments_lexer": "ipython3",
   "version": "3.9.7"
  },
  "orig_nbformat": 4
 },
 "nbformat": 4,
 "nbformat_minor": 2
}
