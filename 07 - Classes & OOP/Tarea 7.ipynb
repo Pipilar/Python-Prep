{
 "cells": [
  {
   "cell_type": "code",
   "execution_count": 27,
   "metadata": {},
   "outputs": [],
   "source": [
    "#1\n",
    "class Vehiculos:\n",
    "    def __init__(self,tipo,color,cilindrada):\n",
    "        self.tipo = tipo\n",
    "        self.color = color\n",
    "        self.cilindrada = cilindrada  \n"
   ]
  },
  {
   "cell_type": "code",
   "execution_count": 28,
   "metadata": {},
   "outputs": [],
   "source": [
    "#2\n",
    "class Vehiculos:\n",
    "    def __init__(self,tipo,color,cilindrada):\n",
    "        self.color = color\n",
    "        self.tipo = tipo\n",
    "        self.cilindrada = cilindrada\n",
    "        self.velocidad = 0\n",
    "        self.direccion = 0\n",
    "\n",
    "    def Acelerar(self, vel):\n",
    "        self.velocidad += vel\n",
    "\n",
    "    def Frenar(self, vel):\n",
    "        self.velocidad -= vel\n",
    "    \n",
    "    def Doblar(self, grados):\n",
    "        self.direccion += grados"
   ]
  },
  {
   "cell_type": "code",
   "execution_count": 39,
   "metadata": {},
   "outputs": [],
   "source": [
    "#3\n",
    "a1 = Vehiculos('Moto','verde',200)\n",
    "a2 = Vehiculos('Auto','rojo',600)\n",
    "a3 = Vehiculos('Camión','violeta',15)"
   ]
  },
  {
   "cell_type": "code",
   "execution_count": 40,
   "metadata": {},
   "outputs": [],
   "source": [
    "a1.Acelerar(40)\n",
    "a2.Acelerar(60)\n",
    "a3.Acelerar(30)\n",
    "a1.Doblar(30)\n",
    "a3.Doblar(-30)\n",
    "a2.Frenar(-50)"
   ]
  },
  {
   "cell_type": "code",
   "execution_count": 48,
   "metadata": {},
   "outputs": [],
   "source": [
    "#4\n",
    "class Vehiculos:\n",
    "    def __init__(self,tipo,color,cilindrada):\n",
    "        self.color = color\n",
    "        self.tipo = tipo\n",
    "        self.cilindrada = cilindrada\n",
    "        self.velocidad = 0\n",
    "        self.direccion = 0\n",
    "\n",
    "    def Acelerar(self, vel):\n",
    "        self.velocidad += vel\n",
    "\n",
    "    def Frenar(self, vel):\n",
    "        self.velocidad -= vel\n",
    "    \n",
    "    def Doblar(self, grados):\n",
    "        self.direccion += grados\n",
    "\n",
    "    def Estado(self):\n",
    "        print('Va a', self.velocidad, 'en dirección', self.direccion)\n",
    "\n",
    "    def Detalle(self):\n",
    "        print('Es une', self.tipo, 'de color', self.color, 'y de cilindrada:', self.cilindrada)"
   ]
  },
  {
   "cell_type": "code",
   "execution_count": 49,
   "metadata": {},
   "outputs": [
    {
     "name": "stdout",
     "output_type": "stream",
     "text": [
      "Es une camion de color violeta y de cilindrada: 300\n"
     ]
    }
   ],
   "source": [
    "a1 = Vehiculos('camion','violeta','300')\n",
    "a1.Detalle()"
   ]
  },
  {
   "cell_type": "code",
   "execution_count": 50,
   "metadata": {},
   "outputs": [
    {
     "name": "stdout",
     "output_type": "stream",
     "text": [
      "Va a 0 en dirección 0\n",
      "Va a 80 en dirección 0\n"
     ]
    }
   ],
   "source": [
    "a1.Estado()\n",
    "a1.Acelerar(80)\n",
    "a1.Estado()"
   ]
  },
  {
   "cell_type": "code",
   "execution_count": 83,
   "metadata": {},
   "outputs": [],
   "source": [
    "#5\n",
    "class Tools:\n",
    "    def __init__(self) -> None:\n",
    "        pass\n",
    "\n",
    "    def es_primo(numero):\n",
    "        primo = True\n",
    "        if numero == 1 or numero == 2 or numero == 3 or numero == 5 or numero == 7:\n",
    "            primo = True\n",
    "        elif numero % 2 == 0 or numero % 3 == 0 or numero % 5 == 0 or numero % 7 == 0:\n",
    "            primo = False\n",
    "        else:\n",
    "            primo = True\n",
    "        return primo\n",
    "\n",
    "    def climix(valor,origen,destino):\n",
    "        if origen == 'Celcius':\n",
    "            if destino == 'Celcius':\n",
    "                valor_destino = valor\n",
    "            elif destino == 'Farenheit':\n",
    "                valor_destino = valor*9/5 + 32\n",
    "            elif destino == 'Kelvin':\n",
    "                valor_destino = valor + 273.15\n",
    "        elif origen == 'Farenheit':\n",
    "            if destino == 'Celcius':\n",
    "                valor_destino = (valor - 32) * 5/9\n",
    "            elif destino == 'Farenheit':\n",
    "                valor_destino=valor\n",
    "            elif destino == 'Kelvin':\n",
    "                valor_destino = (valor - 32) * 5/9 + 273.15\n",
    "        elif origen == 'Kelvin':\n",
    "            if destino == 'Celcius':\n",
    "                valor_destino = valor - 273.15\n",
    "            elif destino == 'Farenheit':\n",
    "                valor_destino = ((valor - 273.15)*9/5)+32\n",
    "            elif destino == 'Kelvin':\n",
    "                valor_destino=valor\n",
    "        return valor_destino\n",
    "\n",
    "    def fachi(nro):\n",
    "        fact = ''\n",
    "        if type(nro) != int:\n",
    "            return('ingrese un numero entero')\n",
    "        if nro > 0:\n",
    "            factorial = 1\n",
    "            for a in range(0,nro):\n",
    "                factorial = factorial * nro\n",
    "                nro -= 1\n",
    "            fact = factorial\n",
    "        if nro < 0:\n",
    "            return('ingrese un numero positivo')\n",
    "        return fact\n"
   ]
  },
  {
   "cell_type": "code",
   "execution_count": 84,
   "metadata": {},
   "outputs": [
    {
     "data": {
      "text/plain": [
       "362880"
      ]
     },
     "execution_count": 84,
     "metadata": {},
     "output_type": "execute_result"
    }
   ],
   "source": [
    "#6\n",
    "Tools.fachi(9)"
   ]
  },
  {
   "cell_type": "code",
   "execution_count": 85,
   "metadata": {},
   "outputs": [
    {
     "data": {
      "text/plain": [
       "True"
      ]
     },
     "execution_count": 85,
     "metadata": {},
     "output_type": "execute_result"
    }
   ],
   "source": [
    "Tools.es_primo(223)"
   ]
  },
  {
   "cell_type": "code",
   "execution_count": 86,
   "metadata": {},
   "outputs": [
    {
     "data": {
      "text/plain": [
       "277.15"
      ]
     },
     "execution_count": 86,
     "metadata": {},
     "output_type": "execute_result"
    }
   ],
   "source": [
    "Tools.climix(4,'Celcius','Kelvin')"
   ]
  },
  {
   "cell_type": "code",
   "execution_count": 6,
   "metadata": {},
   "outputs": [],
   "source": [
    "#7\n",
    "class Tools:\n",
    "    def __init__(self,listado):\n",
    "        self.lista = listado\n",
    "\n",
    "    def es_primo(self):\n",
    "        for i in self.lista:\n",
    "            if self.__es_primo(i):\n",
    "                print(i, 'es primo')\n",
    "            else:\n",
    "                print(i, 'no es primo')\n",
    "\n",
    "    def climix(self,origen,destino):\n",
    "        for i in self.lista:\n",
    "            print(i, 'grados', origen, 'son', self.__climix(i,origen,destino), 'grados', destino)\n",
    "\n",
    "    def fachi(self):\n",
    "        for i in self.lista:\n",
    "            if type(i) == int:\n",
    "                print('el factorial de', i, 'es', self.__fachi(i))\n",
    "            else:\n",
    "                print('dentro de la lista debe haber numeros enteros')\n",
    "\n",
    "                \n",
    "    def __es_primo(self,numero):\n",
    "        primo = True\n",
    "        if numero == 1 or numero == 2 or numero == 3 or numero == 5 or numero == 7:\n",
    "            primo = True\n",
    "        elif numero % 2 == 0 or numero % 3 == 0 or numero % 5 == 0 or numero % 7 == 0:\n",
    "            primo = False\n",
    "        else:\n",
    "            primo = True\n",
    "        return primo\n",
    "\n",
    "    def __climix(self,valor,origen,destino):\n",
    "        valor_destino = ''\n",
    "        if origen == 'Celcius':\n",
    "            if destino == 'Celcius':\n",
    "                valor_destino = valor\n",
    "            elif destino == 'Farenheit':\n",
    "                valor_destino = valor*9/5 + 32\n",
    "            elif destino == 'Kelvin':\n",
    "                valor_destino = valor + 273.15\n",
    "        elif origen == 'Farenheit':\n",
    "            if destino == 'Celcius':\n",
    "                valor_destino = (valor - 32) * 5/9\n",
    "            elif destino == 'Farenheit':\n",
    "                valor_destino=valor\n",
    "            elif destino == 'Kelvin':\n",
    "                valor_destino = (valor - 32) * 5/9 + 273.15\n",
    "        elif origen == 'Kelvin':\n",
    "            if destino == 'Celcius':\n",
    "                valor_destino = valor - 273.15\n",
    "            elif destino == 'Farenheit':\n",
    "                valor_destino = ((valor - 273.15)*9/5)+32\n",
    "            elif destino == 'Kelvin':\n",
    "                valor_destino=valor\n",
    "        return valor_destino\n",
    "\n",
    "    def __fachi(self,nro):\n",
    "        fact = ''\n",
    "        if type(nro) != int:\n",
    "            return('ingrese un numero entero')\n",
    "        if nro > 0:\n",
    "            factorial = 1\n",
    "            for a in range(0,nro):\n",
    "                factorial = factorial * nro\n",
    "                nro -= 1\n",
    "            fact = factorial\n",
    "        if nro < 0:\n",
    "            return('ingrese un numero positivo')\n",
    "        return fact"
   ]
  },
  {
   "cell_type": "code",
   "execution_count": 7,
   "metadata": {},
   "outputs": [],
   "source": [
    "t = Tools(['u','i','p','l','ñ'])"
   ]
  },
  {
   "cell_type": "code",
   "execution_count": 8,
   "metadata": {},
   "outputs": [
    {
     "ename": "TypeError",
     "evalue": "unsupported operand type(s) for -: 'str' and 'int'",
     "output_type": "error",
     "traceback": [
      "\u001b[1;31m---------------------------------------------------------------------------\u001b[0m",
      "\u001b[1;31mTypeError\u001b[0m                                 Traceback (most recent call last)",
      "\u001b[1;32m~\\AppData\\Local\\Temp/ipykernel_11572/1426726017.py\u001b[0m in \u001b[0;36m<module>\u001b[1;34m\u001b[0m\n\u001b[1;32m----> 1\u001b[1;33m \u001b[0mt\u001b[0m\u001b[1;33m.\u001b[0m\u001b[0mclimix\u001b[0m\u001b[1;33m(\u001b[0m\u001b[1;34m'Farenheit'\u001b[0m\u001b[1;33m,\u001b[0m\u001b[1;34m'Kelvin'\u001b[0m\u001b[1;33m)\u001b[0m\u001b[1;33m\u001b[0m\u001b[1;33m\u001b[0m\u001b[0m\n\u001b[0m",
      "\u001b[1;32m~\\AppData\\Local\\Temp/ipykernel_11572/3632997504.py\u001b[0m in \u001b[0;36mclimix\u001b[1;34m(self, origen, destino)\u001b[0m\n\u001b[0;32m     13\u001b[0m     \u001b[1;32mdef\u001b[0m \u001b[0mclimix\u001b[0m\u001b[1;33m(\u001b[0m\u001b[0mself\u001b[0m\u001b[1;33m,\u001b[0m\u001b[0morigen\u001b[0m\u001b[1;33m,\u001b[0m\u001b[0mdestino\u001b[0m\u001b[1;33m)\u001b[0m\u001b[1;33m:\u001b[0m\u001b[1;33m\u001b[0m\u001b[1;33m\u001b[0m\u001b[0m\n\u001b[0;32m     14\u001b[0m         \u001b[1;32mfor\u001b[0m \u001b[0mi\u001b[0m \u001b[1;32min\u001b[0m \u001b[0mself\u001b[0m\u001b[1;33m.\u001b[0m\u001b[0mlista\u001b[0m\u001b[1;33m:\u001b[0m\u001b[1;33m\u001b[0m\u001b[1;33m\u001b[0m\u001b[0m\n\u001b[1;32m---> 15\u001b[1;33m             \u001b[0mprint\u001b[0m\u001b[1;33m(\u001b[0m\u001b[0mi\u001b[0m\u001b[1;33m,\u001b[0m \u001b[1;34m'grados'\u001b[0m\u001b[1;33m,\u001b[0m \u001b[0morigen\u001b[0m\u001b[1;33m,\u001b[0m \u001b[1;34m'son'\u001b[0m\u001b[1;33m,\u001b[0m \u001b[0mself\u001b[0m\u001b[1;33m.\u001b[0m\u001b[0m__climix\u001b[0m\u001b[1;33m(\u001b[0m\u001b[0mi\u001b[0m\u001b[1;33m,\u001b[0m\u001b[0morigen\u001b[0m\u001b[1;33m,\u001b[0m\u001b[0mdestino\u001b[0m\u001b[1;33m)\u001b[0m\u001b[1;33m,\u001b[0m \u001b[1;34m'grados'\u001b[0m\u001b[1;33m,\u001b[0m \u001b[0mdestino\u001b[0m\u001b[1;33m)\u001b[0m\u001b[1;33m\u001b[0m\u001b[1;33m\u001b[0m\u001b[0m\n\u001b[0m\u001b[0;32m     16\u001b[0m \u001b[1;33m\u001b[0m\u001b[0m\n\u001b[0;32m     17\u001b[0m     \u001b[1;32mdef\u001b[0m \u001b[0mfachi\u001b[0m\u001b[1;33m(\u001b[0m\u001b[0mself\u001b[0m\u001b[1;33m)\u001b[0m\u001b[1;33m:\u001b[0m\u001b[1;33m\u001b[0m\u001b[1;33m\u001b[0m\u001b[0m\n",
      "\u001b[1;32m~\\AppData\\Local\\Temp/ipykernel_11572/3632997504.py\u001b[0m in \u001b[0;36m__climix\u001b[1;34m(self, valor, origen, destino)\u001b[0m\n\u001b[0;32m     48\u001b[0m                 \u001b[0mvalor_destino\u001b[0m\u001b[1;33m=\u001b[0m\u001b[0mvalor\u001b[0m\u001b[1;33m\u001b[0m\u001b[1;33m\u001b[0m\u001b[0m\n\u001b[0;32m     49\u001b[0m             \u001b[1;32melif\u001b[0m \u001b[0mdestino\u001b[0m \u001b[1;33m==\u001b[0m \u001b[1;34m'Kelvin'\u001b[0m\u001b[1;33m:\u001b[0m\u001b[1;33m\u001b[0m\u001b[1;33m\u001b[0m\u001b[0m\n\u001b[1;32m---> 50\u001b[1;33m                 \u001b[0mvalor_destino\u001b[0m \u001b[1;33m=\u001b[0m \u001b[1;33m(\u001b[0m\u001b[0mvalor\u001b[0m \u001b[1;33m-\u001b[0m \u001b[1;36m32\u001b[0m\u001b[1;33m)\u001b[0m \u001b[1;33m*\u001b[0m \u001b[1;36m5\u001b[0m\u001b[1;33m/\u001b[0m\u001b[1;36m9\u001b[0m \u001b[1;33m+\u001b[0m \u001b[1;36m273.15\u001b[0m\u001b[1;33m\u001b[0m\u001b[1;33m\u001b[0m\u001b[0m\n\u001b[0m\u001b[0;32m     51\u001b[0m         \u001b[1;32melif\u001b[0m \u001b[0morigen\u001b[0m \u001b[1;33m==\u001b[0m \u001b[1;34m'Kelvin'\u001b[0m\u001b[1;33m:\u001b[0m\u001b[1;33m\u001b[0m\u001b[1;33m\u001b[0m\u001b[0m\n\u001b[0;32m     52\u001b[0m             \u001b[1;32mif\u001b[0m \u001b[0mdestino\u001b[0m \u001b[1;33m==\u001b[0m \u001b[1;34m'Celcius'\u001b[0m\u001b[1;33m:\u001b[0m\u001b[1;33m\u001b[0m\u001b[1;33m\u001b[0m\u001b[0m\n",
      "\u001b[1;31mTypeError\u001b[0m: unsupported operand type(s) for -: 'str' and 'int'"
     ]
    }
   ],
   "source": [
    "t.climix('Farenheit','Kelvin')"
   ]
  },
  {
   "cell_type": "code",
   "execution_count": 9,
   "metadata": {},
   "outputs": [
    {
     "name": "stdout",
     "output_type": "stream",
     "text": [
      "dentro de la lista debe haber numeros enteros\n",
      "dentro de la lista debe haber numeros enteros\n",
      "dentro de la lista debe haber numeros enteros\n",
      "dentro de la lista debe haber numeros enteros\n",
      "dentro de la lista debe haber numeros enteros\n"
     ]
    }
   ],
   "source": [
    "t.fachi()"
   ]
  },
  {
   "cell_type": "code",
   "execution_count": 137,
   "metadata": {},
   "outputs": [
    {
     "name": "stdout",
     "output_type": "stream",
     "text": [
      "1 es primo\n",
      "3 es primo\n",
      "4 no es primo\n",
      "6 no es primo\n",
      "78 no es primo\n",
      "3 es primo\n",
      "4 no es primo\n",
      "3 es primo\n",
      "5 es primo\n",
      "6 no es primo\n",
      "7 es primo\n",
      "4 no es primo\n",
      "2 es primo\n",
      "9 no es primo\n",
      "0 no es primo\n",
      "8 no es primo\n",
      "5 es primo\n",
      "4 no es primo\n",
      "2 es primo\n",
      "88 no es primo\n",
      "5 es primo\n",
      "2 es primo\n",
      "44 no es primo\n",
      "1 es primo\n"
     ]
    }
   ],
   "source": [
    "t.es_primo()"
   ]
  },
  {
   "cell_type": "code",
   "execution_count": 140,
   "metadata": {},
   "outputs": [],
   "source": [
    "#8\n",
    "from tools import *\n",
    "#esto es lo mismo que agarrar todo lo que esta en el archivo de tools, copiarlo y pegarlo aca\n",
    "#este es como el metodo rapido"
   ]
  },
  {
   "cell_type": "code",
   "execution_count": 142,
   "metadata": {},
   "outputs": [],
   "source": [
    "t1 = Tools([1,2,3,4,5,6,7,8,9,10,11,12,13,14,15,16,17,18,19,20])"
   ]
  },
  {
   "cell_type": "code",
   "execution_count": 143,
   "metadata": {},
   "outputs": [
    {
     "name": "stdout",
     "output_type": "stream",
     "text": [
      "1 es primo\n",
      "2 es primo\n",
      "3 es primo\n",
      "4 no es primo\n",
      "5 es primo\n",
      "6 no es primo\n",
      "7 es primo\n",
      "8 no es primo\n",
      "9 no es primo\n",
      "10 no es primo\n",
      "11 es primo\n",
      "12 no es primo\n",
      "13 es primo\n",
      "14 no es primo\n",
      "15 no es primo\n",
      "16 no es primo\n",
      "17 es primo\n",
      "18 no es primo\n",
      "19 es primo\n",
      "20 no es primo\n"
     ]
    }
   ],
   "source": [
    "t1.es_primo()"
   ]
  },
  {
   "cell_type": "code",
   "execution_count": 145,
   "metadata": {},
   "outputs": [
    {
     "name": "stdout",
     "output_type": "stream",
     "text": [
      "el factorial de 1 es 1\n",
      "el factorial de 2 es 2\n",
      "el factorial de 3 es 6\n",
      "el factorial de 4 es 24\n",
      "el factorial de 5 es 120\n",
      "el factorial de 6 es 720\n",
      "el factorial de 7 es 5040\n",
      "el factorial de 8 es 40320\n",
      "el factorial de 9 es 362880\n",
      "el factorial de 10 es 3628800\n",
      "el factorial de 11 es 39916800\n",
      "el factorial de 12 es 479001600\n",
      "el factorial de 13 es 6227020800\n",
      "el factorial de 14 es 87178291200\n",
      "el factorial de 15 es 1307674368000\n",
      "el factorial de 16 es 20922789888000\n",
      "el factorial de 17 es 355687428096000\n",
      "el factorial de 18 es 6402373705728000\n",
      "el factorial de 19 es 121645100408832000\n",
      "el factorial de 20 es 2432902008176640000\n"
     ]
    }
   ],
   "source": [
    "t1.fachi()"
   ]
  },
  {
   "cell_type": "code",
   "execution_count": 147,
   "metadata": {},
   "outputs": [
    {
     "data": {
      "text/plain": [
       "' \\ntodo lo que arranca aca es del estilo comentario. se puede usar esto tambien\\nsi no nos queremos ir muy lejos con tantos numerales \\n'"
      ]
     },
     "execution_count": 147,
     "metadata": {},
     "output_type": "execute_result"
    }
   ],
   "source": [
    "''' \n",
    "todo lo que arranca aca es del estilo comentario. se puede usar esto tambien\n",
    "si no nos queremos ir muy lejos con tantos numerales \n",
    "'''"
   ]
  },
  {
   "cell_type": "code",
   "execution_count": null,
   "metadata": {},
   "outputs": [],
   "source": []
  }
 ],
 "metadata": {
  "interpreter": {
   "hash": "5ce8f7e1a65270a9a52111c8281a701c62f24038c5333d6712e533aaa6ddee7b"
  },
  "kernelspec": {
   "display_name": "Python 3.9.7 ('base')",
   "language": "python",
   "name": "python3"
  },
  "language_info": {
   "codemirror_mode": {
    "name": "ipython",
    "version": 3
   },
   "file_extension": ".py",
   "mimetype": "text/x-python",
   "name": "python",
   "nbconvert_exporter": "python",
   "pygments_lexer": "ipython3",
   "version": "3.9.7"
  },
  "orig_nbformat": 4
 },
 "nbformat": 4,
 "nbformat_minor": 2
}
